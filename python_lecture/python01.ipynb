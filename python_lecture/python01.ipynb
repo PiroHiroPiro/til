{
 "cells": [
  {
   "cell_type": "markdown",
   "metadata": {},
   "source": [
    "# Python入門 〜基本文法編〜\n",
    "\n",
    "https://a-lucky.github.io/python_lecture_sphinx/build/html/index.html"
   ]
  },
  {
   "cell_type": "markdown",
   "metadata": {},
   "source": [
    "## Introduction"
   ]
  },
  {
   "cell_type": "code",
   "execution_count": 84,
   "metadata": {},
   "outputs": [
    {
     "name": "stdout",
     "output_type": "stream",
     "text": [
      "Hello, Pythonic world!\n"
     ]
    }
   ],
   "source": [
    "print(\"Hello, Pythonic world!\")"
   ]
  },
  {
   "cell_type": "markdown",
   "metadata": {},
   "source": [
    "## Variable"
   ]
  },
  {
   "cell_type": "code",
   "execution_count": 85,
   "metadata": {},
   "outputs": [
    {
     "name": "stdout",
     "output_type": "stream",
     "text": [
      "2017\n",
      "<class 'int'>\n"
     ]
    }
   ],
   "source": [
    "x = 2017\n",
    "print(x)\n",
    "print(type(x))"
   ]
  },
  {
   "cell_type": "code",
   "execution_count": 86,
   "metadata": {},
   "outputs": [
    {
     "name": "stdout",
     "output_type": "stream",
     "text": [
      "3.141592653\n",
      "<class 'float'>\n"
     ]
    }
   ],
   "source": [
    "pi = 3.141592653\n",
    "print(pi)\n",
    "print(type(pi))"
   ]
  },
  {
   "cell_type": "code",
   "execution_count": 87,
   "metadata": {},
   "outputs": [
    {
     "name": "stdout",
     "output_type": "stream",
     "text": [
      "True\n",
      "<class 'bool'>\n"
     ]
    }
   ],
   "source": [
    "flag = True\n",
    "print(flag)\n",
    "print(type(flag))"
   ]
  },
  {
   "cell_type": "code",
   "execution_count": 88,
   "metadata": {},
   "outputs": [
    {
     "name": "stdout",
     "output_type": "stream",
     "text": [
      "Hello world\n",
      "<class 'str'> <class 'str'>\n"
     ]
    }
   ],
   "source": [
    "s = \"Hello\"\n",
    "t = \"world\"\n",
    "print(s, t)\n",
    "print(type(s), type(t))"
   ]
  },
  {
   "cell_type": "code",
   "execution_count": 89,
   "metadata": {},
   "outputs": [
    {
     "name": "stdout",
     "output_type": "stream",
     "text": [
      "祇園精舎の鐘の声\n",
      "諸行無常の響きあり\n",
      "<class 'str'>\n"
     ]
    }
   ],
   "source": [
    "# new\n",
    "\n",
    "sentence = \"\"\"祇園精舎の鐘の声\n",
    "諸行無常の響きあり\"\"\"\n",
    "print(sentence)\n",
    "print(type(sentence))"
   ]
  },
  {
   "cell_type": "code",
   "execution_count": 90,
   "metadata": {},
   "outputs": [
    {
     "name": "stdout",
     "output_type": "stream",
     "text": [
      "4649\n",
      "<class 'str'>\n",
      "4649\n",
      "<class 'int'>\n"
     ]
    }
   ],
   "source": [
    "yorosiku = \"4649\"\n",
    "print(yorosiku)\n",
    "print(type(yorosiku))\n",
    "yorosiku = int(yorosiku)\n",
    "print(yorosiku)\n",
    "print(type(yorosiku))"
   ]
  },
  {
   "cell_type": "markdown",
   "metadata": {},
   "source": [
    "## Calculation"
   ]
  },
  {
   "cell_type": "code",
   "execution_count": 91,
   "metadata": {},
   "outputs": [
    {
     "data": {
      "text/plain": [
       "2"
      ]
     },
     "execution_count": 91,
     "metadata": {},
     "output_type": "execute_result"
    }
   ],
   "source": [
    "1 + 1"
   ]
  },
  {
   "cell_type": "code",
   "execution_count": 92,
   "metadata": {},
   "outputs": [
    {
     "data": {
      "text/plain": [
       "4"
      ]
     },
     "execution_count": 92,
     "metadata": {},
     "output_type": "execute_result"
    }
   ],
   "source": [
    "2 * 2"
   ]
  },
  {
   "cell_type": "code",
   "execution_count": 93,
   "metadata": {},
   "outputs": [
    {
     "data": {
      "text/plain": [
       "2.5"
      ]
     },
     "execution_count": 93,
     "metadata": {},
     "output_type": "execute_result"
    }
   ],
   "source": [
    "5 / 2"
   ]
  },
  {
   "cell_type": "code",
   "execution_count": 94,
   "metadata": {},
   "outputs": [
    {
     "data": {
      "text/plain": [
       "1"
      ]
     },
     "execution_count": 94,
     "metadata": {},
     "output_type": "execute_result"
    }
   ],
   "source": [
    "7 % 3"
   ]
  },
  {
   "cell_type": "code",
   "execution_count": 95,
   "metadata": {},
   "outputs": [
    {
     "data": {
      "text/plain": [
       "9"
      ]
     },
     "execution_count": 95,
     "metadata": {},
     "output_type": "execute_result"
    }
   ],
   "source": [
    "3 ** 2"
   ]
  },
  {
   "cell_type": "code",
   "execution_count": 96,
   "metadata": {},
   "outputs": [
    {
     "data": {
      "text/plain": [
       "True"
      ]
     },
     "execution_count": 96,
     "metadata": {},
     "output_type": "execute_result"
    }
   ],
   "source": [
    "100 == 100 or 100 != 100"
   ]
  },
  {
   "cell_type": "code",
   "execution_count": 97,
   "metadata": {},
   "outputs": [
    {
     "data": {
      "text/plain": [
       "False"
      ]
     },
     "execution_count": 97,
     "metadata": {},
     "output_type": "execute_result"
    }
   ],
   "source": [
    "100 == 100 and 100 != 100"
   ]
  },
  {
   "cell_type": "code",
   "execution_count": 98,
   "metadata": {},
   "outputs": [
    {
     "data": {
      "text/plain": [
       "True"
      ]
     },
     "execution_count": 98,
     "metadata": {},
     "output_type": "execute_result"
    }
   ],
   "source": [
    "not 100 != 100"
   ]
  },
  {
   "cell_type": "markdown",
   "metadata": {},
   "source": [
    "## if elif else"
   ]
  },
  {
   "cell_type": "code",
   "execution_count": 99,
   "metadata": {},
   "outputs": [
    {
     "name": "stdout",
     "output_type": "stream",
     "text": [
      "Now\n"
     ]
    }
   ],
   "source": [
    "year = 2017\n",
    "if year > 2017:\n",
    "    print(\"Future\")\n",
    "elif year < 2017:\n",
    "    print(\"past\")\n",
    "else:\n",
    "    print(\"Now\")"
   ]
  },
  {
   "cell_type": "code",
   "execution_count": 100,
   "metadata": {},
   "outputs": [
    {
     "name": "stdout",
     "output_type": "stream",
     "text": [
      "20th century\n"
     ]
    }
   ],
   "source": [
    "# new\n",
    "year = 2000\n",
    "if 1901 <= year < 2001:\n",
    "    print(\"20th century\")"
   ]
  },
  {
   "cell_type": "markdown",
   "metadata": {},
   "source": [
    "### (True thing) if (judge) else (False thing)"
   ]
  },
  {
   "cell_type": "code",
   "execution_count": 101,
   "metadata": {},
   "outputs": [
    {
     "name": "stdout",
     "output_type": "stream",
     "text": [
      "odd\n"
     ]
    }
   ],
   "source": [
    "# new\n",
    "val = 39\n",
    "result = \"even\" if val % 2 == 0 else \"odd\"\n",
    "print(result)"
   ]
  },
  {
   "cell_type": "markdown",
   "metadata": {},
   "source": [
    "## == or is"
   ]
  },
  {
   "cell_type": "code",
   "execution_count": 102,
   "metadata": {},
   "outputs": [],
   "source": [
    "str_a = \"Apple star\"\n",
    "str_b = \"Apple star\"\n",
    "str_c = str_a"
   ]
  },
  {
   "cell_type": "code",
   "execution_count": 103,
   "metadata": {},
   "outputs": [
    {
     "name": "stdout",
     "output_type": "stream",
     "text": [
      "4403448432\n",
      "4403449008\n",
      "4403448432\n"
     ]
    }
   ],
   "source": [
    "# new\n",
    "print(id(str_a))\n",
    "print(id(str_b))\n",
    "print(id(str_c))"
   ]
  },
  {
   "cell_type": "code",
   "execution_count": 104,
   "metadata": {},
   "outputs": [
    {
     "name": "stdout",
     "output_type": "stream",
     "text": [
      "str_a == str_b\n"
     ]
    }
   ],
   "source": [
    "if str_a == str_b:\n",
    "    print(\"str_a == str_b\")\n",
    "else:\n",
    "    print(\"str_a != str_b\")"
   ]
  },
  {
   "cell_type": "code",
   "execution_count": 105,
   "metadata": {},
   "outputs": [
    {
     "name": "stdout",
     "output_type": "stream",
     "text": [
      "str_a isn't str_b\n"
     ]
    }
   ],
   "source": [
    "# new\n",
    "if str_a is str_b:\n",
    "    print(\"str_a is str_b\")\n",
    "else:\n",
    "    print(\"str_a isn't str_b\")"
   ]
  },
  {
   "cell_type": "code",
   "execution_count": 106,
   "metadata": {},
   "outputs": [
    {
     "name": "stdout",
     "output_type": "stream",
     "text": [
      "str_a == str_c\n"
     ]
    }
   ],
   "source": [
    "if str_a == str_c:\n",
    "    print(\"str_a == str_c\")\n",
    "else:\n",
    "    print(\"str_a != str_c\")"
   ]
  },
  {
   "cell_type": "code",
   "execution_count": 107,
   "metadata": {},
   "outputs": [
    {
     "name": "stdout",
     "output_type": "stream",
     "text": [
      "str_a is str_c\n"
     ]
    }
   ],
   "source": [
    "if str_a is str_c:\n",
    "    print(\"str_a is str_c\")\n",
    "else:\n",
    "    print(\"str_a isn't str_c\")"
   ]
  },
  {
   "cell_type": "markdown",
   "metadata": {},
   "source": [
    "## list"
   ]
  },
  {
   "cell_type": "code",
   "execution_count": 108,
   "metadata": {},
   "outputs": [
    {
     "name": "stdout",
     "output_type": "stream",
     "text": [
      "<class 'list'>\n"
     ]
    }
   ],
   "source": [
    "empty = []\n",
    "print(type(empty))"
   ]
  },
  {
   "cell_type": "code",
   "execution_count": 109,
   "metadata": {},
   "outputs": [
    {
     "name": "stdout",
     "output_type": "stream",
     "text": [
      "['apple', 'banana', 'peach']\n"
     ]
    }
   ],
   "source": [
    "fruits = [\"apple\", \"banana\", \"peach\"]\n",
    "print(fruits)"
   ]
  },
  {
   "cell_type": "code",
   "execution_count": 110,
   "metadata": {},
   "outputs": [
    {
     "name": "stdout",
     "output_type": "stream",
     "text": [
      "apple\n"
     ]
    }
   ],
   "source": [
    "print(fruits[0])"
   ]
  },
  {
   "cell_type": "code",
   "execution_count": 111,
   "metadata": {},
   "outputs": [
    {
     "name": "stdout",
     "output_type": "stream",
     "text": [
      "['apple', 'banana', 'peach', 'lemmon']\n",
      "4\n"
     ]
    }
   ],
   "source": [
    "fruits.append(\"lemmon\")\n",
    "print(fruits)\n",
    "print(len(fruits))"
   ]
  },
  {
   "cell_type": "code",
   "execution_count": 112,
   "metadata": {},
   "outputs": [
    {
     "name": "stdout",
     "output_type": "stream",
     "text": [
      "apple, banana, peach, lemmon\n"
     ]
    }
   ],
   "source": [
    "# new\n",
    "print(\", \".join(fruits))"
   ]
  },
  {
   "cell_type": "code",
   "execution_count": 113,
   "metadata": {},
   "outputs": [
    {
     "data": {
      "text/plain": [
       "['apple', 'banana', 'peach', 'lemmon']"
      ]
     },
     "execution_count": 113,
     "metadata": {},
     "output_type": "execute_result"
    }
   ],
   "source": [
    "# new\n",
    "\"apple, banana, peach, lemmon\".split(\", \")"
   ]
  },
  {
   "cell_type": "code",
   "execution_count": 114,
   "metadata": {},
   "outputs": [
    {
     "name": "stdout",
     "output_type": "stream",
     "text": [
      "exist lemmon\n",
      "not exist orange\n"
     ]
    }
   ],
   "source": [
    "if \"lemmon\" in fruits:\n",
    "    print(\"exist lemmon\")\n",
    "if \"orange\" not in fruits:\n",
    "    print(\"not exist orange\")"
   ]
  },
  {
   "cell_type": "code",
   "execution_count": 115,
   "metadata": {},
   "outputs": [
    {
     "name": "stdout",
     "output_type": "stream",
     "text": [
      "['str', 50, 3.14, ['a']]\n"
     ]
    }
   ],
   "source": [
    "# new\n",
    "print([\"str\", 50, 3.14, [\"a\"]])"
   ]
  },
  {
   "cell_type": "markdown",
   "metadata": {},
   "source": [
    "## minus index and slice"
   ]
  },
  {
   "cell_type": "code",
   "execution_count": 116,
   "metadata": {},
   "outputs": [
    {
     "name": "stdout",
     "output_type": "stream",
     "text": [
      "[0, 1, 2, 3, 4, 5, 6, 7, 8, 9]\n"
     ]
    }
   ],
   "source": [
    "numbers = [0, 1, 2, 3, 4, 5]\n",
    "numbers += [6, 7, 8, 9]\n",
    "print(numbers)"
   ]
  },
  {
   "cell_type": "code",
   "execution_count": 117,
   "metadata": {},
   "outputs": [
    {
     "name": "stdout",
     "output_type": "stream",
     "text": [
      "9 9\n",
      "7 7\n"
     ]
    }
   ],
   "source": [
    "print(numbers[-1], numbers[len(numbers) - 1])\n",
    "print(numbers[-3], numbers[7])"
   ]
  },
  {
   "cell_type": "code",
   "execution_count": 118,
   "metadata": {},
   "outputs": [
    {
     "name": "stdout",
     "output_type": "stream",
     "text": [
      "[0, 1, 2, 3, 4, 5]\n",
      "[3, 4, 5, 6, 7, 8, 9]\n",
      "[5, 6]\n"
     ]
    }
   ],
   "source": [
    "print(numbers[:6])\n",
    "print(numbers[3:])\n",
    "print(numbers[5:-3])"
   ]
  },
  {
   "cell_type": "markdown",
   "metadata": {},
   "source": [
    "### set "
   ]
  },
  {
   "cell_type": "code",
   "execution_count": 119,
   "metadata": {},
   "outputs": [
    {
     "name": "stdout",
     "output_type": "stream",
     "text": [
      "[0, 2, 4, 6, 8]\n",
      "[0, 3, 6, 9]\n",
      "[9, 8, 7, 6, 5, 4, 3, 2, 1, 0] [9, 8, 7, 6, 5, 4, 3, 2, 1, 0]\n"
     ]
    }
   ],
   "source": [
    "# new\n",
    "print(numbers[::2])\n",
    "print(numbers[::3])\n",
    "print(numbers[::-1], list(reversed(numbers)))"
   ]
  },
  {
   "cell_type": "code",
   "execution_count": 120,
   "metadata": {},
   "outputs": [
    {
     "name": "stdout",
     "output_type": "stream",
     "text": [
      "[9, 7, 5, 3, 1]\n"
     ]
    }
   ],
   "source": [
    "print(numbers[::-2])"
   ]
  },
  {
   "cell_type": "code",
   "execution_count": 121,
   "metadata": {},
   "outputs": [
    {
     "name": "stdout",
     "output_type": "stream",
     "text": [
      "0001\n",
      "0020\n",
      "0300\n",
      "0002\n"
     ]
    }
   ],
   "source": [
    "# new\n",
    "print((\"000\" + \"1\")[-4:])\n",
    "print((\"000\" + \"20\")[-4:])\n",
    "print((\"000\" + \"300\")[-4:])\n",
    "print(\"2\".zfill(4))"
   ]
  },
  {
   "cell_type": "markdown",
   "metadata": {},
   "source": [
    "## copy list"
   ]
  },
  {
   "cell_type": "code",
   "execution_count": 122,
   "metadata": {},
   "outputs": [
    {
     "name": "stdout",
     "output_type": "stream",
     "text": [
      "[0, 0, 0, 0, 0, 0, 0, 0, 0, 0]\n",
      "[0, 0, 0, 0, 0, 0, 0, 0, 0, 0]\n"
     ]
    }
   ],
   "source": [
    "zero_vec = [0] * 10\n",
    "print(zero_vec)\n",
    "copy_vec = zero_vec\n",
    "print(copy_vec)"
   ]
  },
  {
   "cell_type": "code",
   "execution_count": 123,
   "metadata": {},
   "outputs": [
    {
     "name": "stdout",
     "output_type": "stream",
     "text": [
      "4403473224\n",
      "4403473224\n"
     ]
    }
   ],
   "source": [
    "print(id(zero_vec))\n",
    "print(id(copy_vec))"
   ]
  },
  {
   "cell_type": "code",
   "execution_count": 124,
   "metadata": {},
   "outputs": [
    {
     "name": "stdout",
     "output_type": "stream",
     "text": [
      "[0, 1, 0, 0, 0, 0, 0, 0, 0, 0]\n",
      "[0, 1, 0, 0, 0, 0, 0, 0, 0, 0]\n",
      "4403473224\n",
      "4403473224\n"
     ]
    }
   ],
   "source": [
    "copy_vec[1] = 1\n",
    "print(copy_vec)\n",
    "print(zero_vec)\n",
    "print(id(copy_vec))\n",
    "print(id(zero_vec))"
   ]
  },
  {
   "cell_type": "code",
   "execution_count": 125,
   "metadata": {},
   "outputs": [
    {
     "name": "stdout",
     "output_type": "stream",
     "text": [
      "[0, 0, 0, 0, 0, 0, 0, 0, 0, 0]\n",
      "[0, 0, 0, 0, 0, 0, 0, 0, 0, 0]\n",
      "4402776456\n",
      "4402911176\n"
     ]
    }
   ],
   "source": [
    "# new\n",
    "zero_vec = [0] * 10\n",
    "print(zero_vec)\n",
    "copy_vec = zero_vec[:]\n",
    "print(copy_vec)\n",
    "print(id(copy_vec))\n",
    "print(id(zero_vec))"
   ]
  },
  {
   "cell_type": "code",
   "execution_count": 126,
   "metadata": {},
   "outputs": [
    {
     "name": "stdout",
     "output_type": "stream",
     "text": [
      "[0, 1, 0, 0, 0, 0, 0, 0, 0, 0]\n",
      "[0, 0, 0, 0, 0, 0, 0, 0, 0, 0]\n",
      "4402776456\n",
      "4402911176\n"
     ]
    }
   ],
   "source": [
    "copy_vec[1] = 1\n",
    "print(copy_vec)\n",
    "print(zero_vec)\n",
    "print(id(copy_vec))\n",
    "print(id(zero_vec))"
   ]
  },
  {
   "cell_type": "markdown",
   "metadata": {},
   "source": [
    "## tuple\n",
    "new"
   ]
  },
  {
   "cell_type": "code",
   "execution_count": 127,
   "metadata": {},
   "outputs": [
    {
     "name": "stdout",
     "output_type": "stream",
     "text": [
      "<class 'tuple'>\n"
     ]
    }
   ],
   "source": [
    "empty = ()\n",
    "print(type(empty))"
   ]
  },
  {
   "cell_type": "code",
   "execution_count": 128,
   "metadata": {},
   "outputs": [
    {
     "name": "stdout",
     "output_type": "stream",
     "text": [
      "('apple', 'banana', 'peach')\n",
      "apple\n",
      "('banana', 'apple')\n"
     ]
    }
   ],
   "source": [
    "fruits = (\"apple\", \"banana\", \"peach\")\n",
    "print(fruits)\n",
    "print(fruits[0])\n",
    "print(fruits[1::-1])"
   ]
  },
  {
   "cell_type": "code",
   "execution_count": 129,
   "metadata": {},
   "outputs": [],
   "source": [
    "# fruits.append(\"lemmon\")"
   ]
  },
  {
   "cell_type": "markdown",
   "metadata": {},
   "source": [
    "## tuple pack, sequence unpack\n",
    "new"
   ]
  },
  {
   "cell_type": "code",
   "execution_count": 130,
   "metadata": {},
   "outputs": [
    {
     "name": "stdout",
     "output_type": "stream",
     "text": [
      "(1, 2, 3)\n"
     ]
    }
   ],
   "source": [
    "pack = 1, 2, 3\n",
    "print(pack)"
   ]
  },
  {
   "cell_type": "code",
   "execution_count": 131,
   "metadata": {},
   "outputs": [
    {
     "name": "stdout",
     "output_type": "stream",
     "text": [
      "A\n",
      "B\n",
      "C\n"
     ]
    }
   ],
   "source": [
    "a, b, c = \"ABC\"\n",
    "print(a)\n",
    "print(b)\n",
    "print(c)"
   ]
  },
  {
   "cell_type": "code",
   "execution_count": 132,
   "metadata": {},
   "outputs": [
    {
     "name": "stdout",
     "output_type": "stream",
     "text": [
      "3 5\n",
      "5 3\n"
     ]
    }
   ],
   "source": [
    "a = \"3\"\n",
    "b = \"5\"\n",
    "print(a, b)\n",
    "a, b = b, a\n",
    "print(a, b)"
   ]
  },
  {
   "cell_type": "markdown",
   "metadata": {},
   "source": [
    "## loop"
   ]
  },
  {
   "cell_type": "code",
   "execution_count": 133,
   "metadata": {},
   "outputs": [
    {
     "name": "stdout",
     "output_type": "stream",
     "text": [
      "0\n",
      "1\n",
      "2\n",
      "3\n"
     ]
    }
   ],
   "source": [
    "for i in [0, 1, 2, 3]:\n",
    "    print(i)"
   ]
  },
  {
   "cell_type": "code",
   "execution_count": 134,
   "metadata": {},
   "outputs": [
    {
     "name": "stdout",
     "output_type": "stream",
     "text": [
      "range(0, 4)\n",
      "[0, 1, 2, 3]\n",
      "[1, 2, 3, 4]\n"
     ]
    }
   ],
   "source": [
    "print(range(4))\n",
    "print(list(range(4)))\n",
    "print(list(range(1, 5)))"
   ]
  },
  {
   "cell_type": "code",
   "execution_count": 135,
   "metadata": {},
   "outputs": [
    {
     "name": "stdout",
     "output_type": "stream",
     "text": [
      "0 apple\n",
      "1 banana\n",
      "2 peach\n"
     ]
    }
   ],
   "source": [
    "for i in range(len(fruits)):\n",
    "    print(i, fruits[i])"
   ]
  },
  {
   "cell_type": "code",
   "execution_count": 136,
   "metadata": {},
   "outputs": [
    {
     "name": "stdout",
     "output_type": "stream",
     "text": [
      "apple\n",
      "banana\n",
      "peach\n"
     ]
    }
   ],
   "source": [
    "for fruit in fruits:\n",
    "    print(fruit)"
   ]
  },
  {
   "cell_type": "code",
   "execution_count": 137,
   "metadata": {},
   "outputs": [
    {
     "name": "stdout",
     "output_type": "stream",
     "text": [
      "0 apple\n",
      "1 banana\n",
      "2 peach\n"
     ]
    }
   ],
   "source": [
    "# new\n",
    "for i, fruit in enumerate(fruits):\n",
    "    print(i, fruit)"
   ]
  },
  {
   "cell_type": "markdown",
   "metadata": {},
   "source": [
    "## technic of write combination"
   ]
  },
  {
   "cell_type": "code",
   "execution_count": 138,
   "metadata": {},
   "outputs": [
    {
     "name": "stdout",
     "output_type": "stream",
     "text": [
      "apple and banana\n",
      "apple and peach\n",
      "banana and peach\n"
     ]
    }
   ],
   "source": [
    "for i, fruit1 in enumerate(fruits):\n",
    "    for j, fruit2 in enumerate(fruits):\n",
    "        if i < j:\n",
    "            print(fruit1 + \" and \" + fruit2)"
   ]
  },
  {
   "cell_type": "code",
   "execution_count": 139,
   "metadata": {},
   "outputs": [],
   "source": [
    "# new\n",
    "import itertools"
   ]
  },
  {
   "cell_type": "code",
   "execution_count": 140,
   "metadata": {
    "scrolled": true
   },
   "outputs": [
    {
     "name": "stdout",
     "output_type": "stream",
     "text": [
      "apple and banana\n",
      "apple and peach\n",
      "banana and peach\n"
     ]
    }
   ],
   "source": [
    "for fruit1, fruit2 in itertools.combinations(fruits, 2):\n",
    "     print(fruit1 + \" and \" + fruit2)"
   ]
  },
  {
   "cell_type": "code",
   "execution_count": 141,
   "metadata": {},
   "outputs": [
    {
     "name": "stdout",
     "output_type": "stream",
     "text": [
      "apple and banana and peach\n"
     ]
    }
   ],
   "source": [
    "for fruit1, fruit2, fruit3 in itertools.combinations(fruits, 3):\n",
    "     print(fruit1 + \" and \" + fruit2 + \" and \" + fruit3)"
   ]
  },
  {
   "cell_type": "markdown",
   "metadata": {},
   "source": [
    "## for else\n",
    "new"
   ]
  },
  {
   "cell_type": "code",
   "execution_count": 142,
   "metadata": {},
   "outputs": [
    {
     "name": "stdout",
     "output_type": "stream",
     "text": [
      "no error\n"
     ]
    }
   ],
   "source": [
    "people = [\"a\", \"b\", \"c\", \"d\"]\n",
    "lupin = \"x\"\n",
    "for person in people:\n",
    "    if person == lupin:\n",
    "        print(\"lupin!\")\n",
    "        break\n",
    "else:\n",
    "    print(\"no error\")"
   ]
  },
  {
   "cell_type": "markdown",
   "metadata": {
    "collapsed": true
   },
   "source": [
    "## while"
   ]
  },
  {
   "cell_type": "code",
   "execution_count": 143,
   "metadata": {},
   "outputs": [
    {
     "name": "stdout",
     "output_type": "stream",
     "text": [
      "(6.0, 7.0)\n"
     ]
    }
   ],
   "source": [
    "i = 1\n",
    "while True:\n",
    "    if i % 56 == 0 and i % 48 == 0:\n",
    "        j = i / 56, i / 48\n",
    "        break\n",
    "    else:\n",
    "        pass\n",
    "    i += 1\n",
    "print(j)"
   ]
  },
  {
   "cell_type": "markdown",
   "metadata": {},
   "source": [
    "## dictionary"
   ]
  },
  {
   "cell_type": "code",
   "execution_count": 144,
   "metadata": {},
   "outputs": [
    {
     "name": "stdout",
     "output_type": "stream",
     "text": [
      "<class 'dict'>\n"
     ]
    }
   ],
   "source": [
    "empty = {}\n",
    "print(type(empty))"
   ]
  },
  {
   "cell_type": "code",
   "execution_count": 145,
   "metadata": {},
   "outputs": [
    {
     "name": "stdout",
     "output_type": "stream",
     "text": [
      "{'Tanaka': 25, 'Yoshida': 30, 'Suzuki': 28}\n",
      "<class 'dict'>\n"
     ]
    }
   ],
   "source": [
    "name2age = {\n",
    "    \"Yoshida\": 30,\n",
    "    \"Suzuki\": 28,\n",
    "    \"Tanaka\": 25\n",
    "}\n",
    "print(name2age)\n",
    "print(type(name2age))"
   ]
  },
  {
   "cell_type": "code",
   "execution_count": 146,
   "metadata": {},
   "outputs": [
    {
     "name": "stdout",
     "output_type": "stream",
     "text": [
      "28\n"
     ]
    }
   ],
   "source": [
    "print(name2age[\"Suzuki\"])"
   ]
  },
  {
   "cell_type": "code",
   "execution_count": 147,
   "metadata": {},
   "outputs": [
    {
     "name": "stdout",
     "output_type": "stream",
     "text": [
      "{'Tanaka': 25, 'Yoshida': 30, 'NijimaJo': 174, 'Suzuki': 28}\n"
     ]
    }
   ],
   "source": [
    "name2age[\"NijimaJo\"] = 2017 - 1843\n",
    "print(name2age)"
   ]
  },
  {
   "cell_type": "code",
   "execution_count": 148,
   "metadata": {},
   "outputs": [
    {
     "name": "stdout",
     "output_type": "stream",
     "text": [
      "Not found Sato's age \n"
     ]
    }
   ],
   "source": [
    "person = \"Sato\"\n",
    "if person not in name2age:\n",
    "    print(\"Not found \" + person + \"'s age \")"
   ]
  },
  {
   "cell_type": "code",
   "execution_count": 149,
   "metadata": {},
   "outputs": [
    {
     "name": "stdout",
     "output_type": "stream",
     "text": [
      "Tanaka\n",
      "Yoshida\n",
      "NijimaJo\n",
      "Suzuki\n"
     ]
    }
   ],
   "source": [
    "for name in name2age:\n",
    "    print(name)"
   ]
  },
  {
   "cell_type": "code",
   "execution_count": 150,
   "metadata": {},
   "outputs": [
    {
     "name": "stdout",
     "output_type": "stream",
     "text": [
      "25\n",
      "30\n",
      "174\n",
      "28\n"
     ]
    }
   ],
   "source": [
    "for age in name2age.values():\n",
    "    print(age)"
   ]
  },
  {
   "cell_type": "code",
   "execution_count": 151,
   "metadata": {},
   "outputs": [
    {
     "name": "stdout",
     "output_type": "stream",
     "text": [
      "Tanaka is 25 years old.\n",
      "Yoshida is 30 years old.\n",
      "NijimaJo is 174 years old.\n",
      "Suzuki is 28 years old.\n"
     ]
    }
   ],
   "source": [
    "for name, age in name2age.items():\n",
    "    print(\"{0} is {1} years old.\".format(name, age))"
   ]
  },
  {
   "cell_type": "markdown",
   "metadata": {},
   "source": [
    "## set"
   ]
  },
  {
   "cell_type": "code",
   "execution_count": 152,
   "metadata": {},
   "outputs": [
    {
     "name": "stdout",
     "output_type": "stream",
     "text": [
      "<class 'set'>\n"
     ]
    }
   ],
   "source": [
    "empty = set()\n",
    "print(type(empty))"
   ]
  },
  {
   "cell_type": "code",
   "execution_count": 153,
   "metadata": {},
   "outputs": [
    {
     "name": "stdout",
     "output_type": "stream",
     "text": [
      "['salt', 'pepper', 'salt', 'suger', 'salt']\n",
      "<class 'list'>\n",
      "{'suger', 'salt', 'pepper'}\n",
      "<class 'set'>\n"
     ]
    }
   ],
   "source": [
    "seasoning = [\"salt\", \"pepper\", \"salt\", \"suger\", \"salt\"]\n",
    "print(seasoning)\n",
    "print(type(seasoning))\n",
    "\n",
    "seasoning = set(seasoning)\n",
    "print(seasoning)\n",
    "print(type(seasoning))"
   ]
  },
  {
   "cell_type": "code",
   "execution_count": 154,
   "metadata": {},
   "outputs": [],
   "source": [
    "set1 = {\"a\", \"b\", \"c\"}\n",
    "set2 = {\"b\", \"c\", \"d\"}"
   ]
  },
  {
   "cell_type": "code",
   "execution_count": 155,
   "metadata": {},
   "outputs": [
    {
     "data": {
      "text/plain": [
       "{'a', 'b', 'c', 'd'}"
      ]
     },
     "execution_count": 155,
     "metadata": {},
     "output_type": "execute_result"
    }
   ],
   "source": [
    "#new\n",
    "set1 | set2"
   ]
  },
  {
   "cell_type": "code",
   "execution_count": 156,
   "metadata": {},
   "outputs": [
    {
     "data": {
      "text/plain": [
       "{'b', 'c'}"
      ]
     },
     "execution_count": 156,
     "metadata": {},
     "output_type": "execute_result"
    }
   ],
   "source": [
    "set1 & set2"
   ]
  },
  {
   "cell_type": "code",
   "execution_count": 157,
   "metadata": {},
   "outputs": [
    {
     "data": {
      "text/plain": [
       "{'a', 'd'}"
      ]
     },
     "execution_count": 157,
     "metadata": {},
     "output_type": "execute_result"
    }
   ],
   "source": [
    "set1 ^ set2"
   ]
  },
  {
   "cell_type": "code",
   "execution_count": 158,
   "metadata": {},
   "outputs": [
    {
     "data": {
      "text/plain": [
       "{'a'}"
      ]
     },
     "execution_count": 158,
     "metadata": {},
     "output_type": "execute_result"
    }
   ],
   "source": [
    "set1 - set2"
   ]
  },
  {
   "cell_type": "code",
   "execution_count": 159,
   "metadata": {},
   "outputs": [
    {
     "data": {
      "text/plain": [
       "{'d'}"
      ]
     },
     "execution_count": 159,
     "metadata": {},
     "output_type": "execute_result"
    }
   ],
   "source": [
    "set2 - set1"
   ]
  },
  {
   "cell_type": "markdown",
   "metadata": {},
   "source": [
    "## defaultdict"
   ]
  },
  {
   "cell_type": "code",
   "execution_count": 160,
   "metadata": {},
   "outputs": [
    {
     "name": "stdout",
     "output_type": "stream",
     "text": [
      "8\n"
     ]
    }
   ],
   "source": [
    "sentence = \"Peter Piper picked a peck of pickled peppers.\"\n",
    "print(sentence.count(\"e\"))"
   ]
  },
  {
   "cell_type": "code",
   "execution_count": 161,
   "metadata": {},
   "outputs": [
    {
     "data": {
      "text/plain": [
       "{' ': 7,\n",
       " '.': 1,\n",
       " 'P': 2,\n",
       " 'a': 1,\n",
       " 'c': 3,\n",
       " 'd': 2,\n",
       " 'e': 8,\n",
       " 'f': 1,\n",
       " 'i': 3,\n",
       " 'k': 3,\n",
       " 'l': 1,\n",
       " 'o': 1,\n",
       " 'p': 7,\n",
       " 'r': 3,\n",
       " 's': 1,\n",
       " 't': 1}"
      ]
     },
     "execution_count": 161,
     "metadata": {},
     "output_type": "execute_result"
    }
   ],
   "source": [
    "alphabet_counter = {}\n",
    "\n",
    "for alphabet in sentence:\n",
    "    if alphabet in alphabet_counter:\n",
    "        alphabet_counter[alphabet] += 1\n",
    "    else:\n",
    "        alphabet_counter[alphabet] = 1\n",
    "alphabet_counter"
   ]
  },
  {
   "cell_type": "code",
   "execution_count": 162,
   "metadata": {},
   "outputs": [
    {
     "data": {
      "text/plain": [
       "defaultdict(int,\n",
       "            {' ': 7,\n",
       "             '.': 1,\n",
       "             'P': 2,\n",
       "             'a': 1,\n",
       "             'c': 3,\n",
       "             'd': 2,\n",
       "             'e': 8,\n",
       "             'f': 1,\n",
       "             'i': 3,\n",
       "             'k': 3,\n",
       "             'l': 1,\n",
       "             'o': 1,\n",
       "             'p': 7,\n",
       "             'r': 3,\n",
       "             's': 1,\n",
       "             't': 1})"
      ]
     },
     "execution_count": 162,
     "metadata": {},
     "output_type": "execute_result"
    }
   ],
   "source": [
    "from collections import defaultdict\n",
    "\n",
    "alphabet_counter = defaultdict(int)\n",
    "\n",
    "for alphabet in sentence:\n",
    "    alphabet_counter[alphabet] += 1\n",
    "alphabet_counter"
   ]
  },
  {
   "cell_type": "code",
   "execution_count": 163,
   "metadata": {},
   "outputs": [
    {
     "data": {
      "text/plain": [
       "[('e', 8),\n",
       " ('p', 7),\n",
       " (' ', 7),\n",
       " ('c', 3),\n",
       " ('k', 3),\n",
       " ('i', 3),\n",
       " ('r', 3),\n",
       " ('P', 2),\n",
       " ('d', 2),\n",
       " ('s', 1),\n",
       " ('l', 1),\n",
       " ('.', 1),\n",
       " ('f', 1),\n",
       " ('o', 1),\n",
       " ('t', 1),\n",
       " ('a', 1)]"
      ]
     },
     "execution_count": 163,
     "metadata": {},
     "output_type": "execute_result"
    }
   ],
   "source": [
    "# new\n",
    "sorted(alphabet_counter.items(), key = lambda x: x[1], reverse=True) "
   ]
  },
  {
   "cell_type": "code",
   "execution_count": 164,
   "metadata": {},
   "outputs": [
    {
     "name": "stdout",
     "output_type": "stream",
     "text": [
      "[('s', 1), ('c', 3), ('l', 1), ('p', 7), ('.', 1), ('k', 3), ('i', 3), ('P', 2), ('f', 1), ('d', 2), (' ', 7), ('r', 3), ('e', 8), ('o', 1), ('t', 1), ('a', 1)]\n",
      "('s', 1)\n",
      "1\n"
     ]
    }
   ],
   "source": [
    "items = list(alphabet_counter.items())\n",
    "print(items)\n",
    "print(items[0])\n",
    "print(items[0][1])"
   ]
  },
  {
   "cell_type": "markdown",
   "metadata": {},
   "source": [
    "## double defaultdict"
   ]
  },
  {
   "cell_type": "code",
   "execution_count": 165,
   "metadata": {},
   "outputs": [],
   "source": [
    "# double_dict = defaultdict(defaultdict(int))"
   ]
  },
  {
   "cell_type": "code",
   "execution_count": 166,
   "metadata": {},
   "outputs": [],
   "source": [
    "# new\n",
    "double_dict = defaultdict(lambda: defaultdict(int))"
   ]
  },
  {
   "cell_type": "code",
   "execution_count": 167,
   "metadata": {},
   "outputs": [
    {
     "data": {
      "text/plain": [
       "defaultdict(<function __main__.<lambda>>,\n",
       "            {'Hanazawa': defaultdict(int, {'Katsuo': 'follow'}),\n",
       "             'Katsuo': defaultdict(int, {'Hanazawa': 'not follow'})})"
      ]
     },
     "execution_count": 167,
     "metadata": {},
     "output_type": "execute_result"
    }
   ],
   "source": [
    "double_dict[\"Hanazawa\"][\"Katsuo\"]  = \"follow\"\n",
    "double_dict[\"Katsuo\"][\"Hanazawa\"]  = \"not follow\"\n",
    "double_dict "
   ]
  },
  {
   "cell_type": "markdown",
   "metadata": {},
   "source": [
    "## None"
   ]
  },
  {
   "cell_type": "code",
   "execution_count": 168,
   "metadata": {},
   "outputs": [
    {
     "name": "stdout",
     "output_type": "stream",
     "text": [
      "[3, None, 4]\n",
      "None\n"
     ]
    }
   ],
   "source": [
    "values = [3, None, 4]\n",
    "print(values)\n",
    "print(values[1])"
   ]
  },
  {
   "cell_type": "code",
   "execution_count": 169,
   "metadata": {},
   "outputs": [
    {
     "name": "stdout",
     "output_type": "stream",
     "text": [
      "3\n",
      "3\n",
      "4\n",
      "4\n"
     ]
    }
   ],
   "source": [
    "for val in values:\n",
    "    if val is not None:\n",
    "        print(val)\n",
    "    if val:\n",
    "        print(val)"
   ]
  },
  {
   "cell_type": "markdown",
   "metadata": {},
   "source": [
    "## pickle"
   ]
  },
  {
   "cell_type": "code",
   "execution_count": 170,
   "metadata": {},
   "outputs": [
    {
     "data": {
      "text/plain": [
       "{'aaa': 2, 'apple': 0, 'bbb': 3, 'monkey': 1}"
      ]
     },
     "execution_count": 170,
     "metadata": {},
     "output_type": "execute_result"
    }
   ],
   "source": [
    "siritori = {\n",
    "    \"apple\" : 0,\n",
    "    \"monkey\": 1,\n",
    "    \"aaa\": 2,\n",
    "    \"bbb\": 3\n",
    "}\n",
    "siritori"
   ]
  },
  {
   "cell_type": "code",
   "execution_count": 171,
   "metadata": {},
   "outputs": [],
   "source": [
    "import pickle\n",
    "file = open(\"siritori.pkl\", \"wb\")\n",
    "pickle.dump(siritori, file, pickle.HIGHEST_PROTOCOL)\n",
    "file.close()"
   ]
  },
  {
   "cell_type": "code",
   "execution_count": 172,
   "metadata": {},
   "outputs": [
    {
     "name": "stdout",
     "output_type": "stream",
     "text": [
      "total 96\r\n",
      "-rw-r--r--  1 hiro  staff  38931 10  5 13:12  Python01.ipynb\r\n",
      "drwxr-xr-x  6 hiro  staff    204 10  5 13:12 \u001b[34m.\u001b[m\u001b[m\r\n",
      "drwxr-xr-x  7 hiro  staff    238  9 28 13:08 \u001b[34m..\u001b[m\u001b[m\r\n",
      "drwxr-xr-x  3 hiro  staff    102  9 28 15:43 \u001b[34m.ipynb_checkpoints\u001b[m\u001b[m\r\n",
      "-rw-r--r--  1 hiro  staff     20 10  5 13:10 .python-version\r\n",
      "-rw-r--r--  1 hiro  staff     53 10  5 13:12 siritori.pkl\r\n"
     ]
    }
   ],
   "source": [
    "# new\n",
    "!ls -la"
   ]
  },
  {
   "cell_type": "code",
   "execution_count": 173,
   "metadata": {},
   "outputs": [
    {
     "data": {
      "text/plain": [
       "{'aaa': 2, 'apple': 0, 'bbb': 3, 'monkey': 1}"
      ]
     },
     "execution_count": 173,
     "metadata": {},
     "output_type": "execute_result"
    }
   ],
   "source": [
    "file = open(\"siritori.pkl\", \"rb\")\n",
    "siritori2 = pickle.load(file)\n",
    "file.close()\n",
    "siritori2"
   ]
  },
  {
   "cell_type": "code",
   "execution_count": 174,
   "metadata": {},
   "outputs": [],
   "source": [
    "with open(\"siritori.pkl\", \"wb\") as f:\n",
    "    pickle.dump(siritori, f, pickle.HIGHEST_PROTOCOL)"
   ]
  },
  {
   "cell_type": "code",
   "execution_count": 175,
   "metadata": {},
   "outputs": [
    {
     "data": {
      "text/plain": [
       "{'aaa': 2, 'apple': 0, 'bbb': 3, 'monkey': 1}"
      ]
     },
     "execution_count": 175,
     "metadata": {},
     "output_type": "execute_result"
    }
   ],
   "source": [
    "with open(\"siritori.pkl\", \"rb\") as f:\n",
    "    siritori2 = pickle.load(f)\n",
    "siritori2"
   ]
  },
  {
   "cell_type": "markdown",
   "metadata": {},
   "source": [
    "## function"
   ]
  },
  {
   "cell_type": "code",
   "execution_count": 176,
   "metadata": {},
   "outputs": [],
   "source": [
    "def average(arg_a, arg_b):\n",
    "    return (arg_a + arg_b) / 2"
   ]
  },
  {
   "cell_type": "code",
   "execution_count": 177,
   "metadata": {},
   "outputs": [
    {
     "data": {
      "text/plain": [
       "3.5"
      ]
     },
     "execution_count": 177,
     "metadata": {},
     "output_type": "execute_result"
    }
   ],
   "source": [
    "average(3, 4)"
   ]
  },
  {
   "cell_type": "code",
   "execution_count": 178,
   "metadata": {},
   "outputs": [],
   "source": [
    "# average(\"a\", \"b\")"
   ]
  },
  {
   "cell_type": "code",
   "execution_count": 179,
   "metadata": {},
   "outputs": [],
   "source": [
    "def pow(x, y=2):\n",
    "    return x ** y"
   ]
  },
  {
   "cell_type": "code",
   "execution_count": 180,
   "metadata": {},
   "outputs": [
    {
     "name": "stdout",
     "output_type": "stream",
     "text": [
      "9\n",
      "27\n"
     ]
    }
   ],
   "source": [
    "print(pow(3))\n",
    "print(pow(3, 3))"
   ]
  },
  {
   "cell_type": "code",
   "execution_count": 181,
   "metadata": {},
   "outputs": [],
   "source": [
    "def info(name, address, age):\n",
    "    print(\"{0} who lives in {1} is {2} years old.\".format(name, address, age))"
   ]
  },
  {
   "cell_type": "code",
   "execution_count": 182,
   "metadata": {},
   "outputs": [
    {
     "name": "stdout",
     "output_type": "stream",
     "text": [
      "Hanawa who lives in Saga is 41 years old.\n"
     ]
    }
   ],
   "source": [
    "info(\"Hanawa\", \"Saga\", 41)"
   ]
  },
  {
   "cell_type": "code",
   "execution_count": 183,
   "metadata": {},
   "outputs": [
    {
     "name": "stdout",
     "output_type": "stream",
     "text": [
      "Hanawa who lives in Saga is 41 years old.\n"
     ]
    }
   ],
   "source": [
    "info(address=\"Saga\", age=41, name=\"Hanawa\")"
   ]
  },
  {
   "cell_type": "markdown",
   "metadata": {},
   "source": [
    "## technics\n",
    "new"
   ]
  },
  {
   "cell_type": "markdown",
   "metadata": {},
   "source": [
    "### run time"
   ]
  },
  {
   "cell_type": "code",
   "execution_count": 184,
   "metadata": {},
   "outputs": [
    {
     "name": "stdout",
     "output_type": "stream",
     "text": [
      "19.3 ms ± 1.72 ms per loop (mean ± std. dev. of 7 runs, 10 loops each)\n"
     ]
    }
   ],
   "source": [
    "%%timeit\n",
    "array = []\n",
    "for x in range(100000):\n",
    "    array.append(x)"
   ]
  },
  {
   "cell_type": "code",
   "execution_count": 185,
   "metadata": {},
   "outputs": [
    {
     "name": "stdout",
     "output_type": "stream",
     "text": [
      "10.4 ms ± 90 µs per loop (mean ± std. dev. of 7 runs, 100 loops each)\n"
     ]
    }
   ],
   "source": [
    "%%timeit\n",
    "array = [x for x in range(100000)]"
   ]
  },
  {
   "cell_type": "markdown",
   "metadata": {},
   "source": [
    "### memory"
   ]
  },
  {
   "cell_type": "code",
   "execution_count": 186,
   "metadata": {},
   "outputs": [],
   "source": [
    "array = [x for x in range(10000)]"
   ]
  },
  {
   "cell_type": "code",
   "execution_count": 187,
   "metadata": {},
   "outputs": [
    {
     "name": "stdout",
     "output_type": "stream",
     "text": [
      "Variable           Type              Data/Info\n",
      "----------------------------------------------\n",
      "a                  str               5\n",
      "age                int               28\n",
      "alphabet           str               .\n",
      "alphabet_counter   defaultdict       defaultdict(<class 'int'><...> 'o': 1, 't': 1, 'a': 1})\n",
      "array              list              n=10000\n",
      "average            function          <function average at 0x106777ae8>\n",
      "b                  str               3\n",
      "c                  str               C\n",
      "copy_vec           list              n=10\n",
      "defaultdict        type              <class 'collections.defaultdict'>\n",
      "double_dict        defaultdict       defaultdict(<function <la<...>, {'Katsuo': 'follow'})})\n",
      "empty              set               set()\n",
      "f                  BufferedReader    <_io.BufferedReader name='siritori.pkl'>\n",
      "file               BufferedReader    <_io.BufferedReader name='siritori.pkl'>\n",
      "flag               bool              True\n",
      "fruit              str               peach\n",
      "fruit1             str               apple\n",
      "fruit2             str               banana\n",
      "fruit3             str               peach\n",
      "fruits             tuple             n=3\n",
      "i                  int               336\n",
      "info               function          <function info at 0x106781048>\n",
      "items              list              n=16\n",
      "itertools          module            <module 'itertools' (built-in)>\n",
      "j                  tuple             n=2\n",
      "lupin              str               x\n",
      "name               str               Suzuki\n",
      "name2age           dict              n=4\n",
      "numbers            list              n=10\n",
      "pack               tuple             n=3\n",
      "people             list              n=4\n",
      "person             str               Sato\n",
      "pi                 float             3.141592653\n",
      "pickle             module            <module 'pickle' from '/U<...>lib/python3.5/pickle.py'>\n",
      "pow                function          <function pow at 0x106781950>\n",
      "result             str               odd\n",
      "s                  str               Hello\n",
      "seasoning          set               {'suger', 'salt', 'pepper'}\n",
      "sentence           str               Peter Piper picked a peck of pickled peppers.\n",
      "set1               set               {'c', 'b', 'a'}\n",
      "set2               set               {'d', 'c', 'b'}\n",
      "siritori           dict              n=4\n",
      "siritori2          dict              n=4\n",
      "str_a              str               Apple star\n",
      "str_b              str               Apple star\n",
      "str_c              str               Apple star\n",
      "t                  str               world\n",
      "val                int               4\n",
      "values             list              n=3\n",
      "x                  int               2017\n",
      "year               int               2000\n",
      "yorosiku           int               4649\n",
      "zero_vec           list              n=10\n"
     ]
    }
   ],
   "source": [
    "%whos"
   ]
  },
  {
   "cell_type": "code",
   "execution_count": 188,
   "metadata": {},
   "outputs": [],
   "source": [
    "del array"
   ]
  },
  {
   "cell_type": "code",
   "execution_count": 189,
   "metadata": {},
   "outputs": [
    {
     "name": "stdout",
     "output_type": "stream",
     "text": [
      "Variable           Type              Data/Info\n",
      "----------------------------------------------\n",
      "a                  str               5\n",
      "age                int               28\n",
      "alphabet           str               .\n",
      "alphabet_counter   defaultdict       defaultdict(<class 'int'><...> 'o': 1, 't': 1, 'a': 1})\n",
      "average            function          <function average at 0x106777ae8>\n",
      "b                  str               3\n",
      "c                  str               C\n",
      "copy_vec           list              n=10\n",
      "defaultdict        type              <class 'collections.defaultdict'>\n",
      "double_dict        defaultdict       defaultdict(<function <la<...>, {'Katsuo': 'follow'})})\n",
      "empty              set               set()\n",
      "f                  BufferedReader    <_io.BufferedReader name='siritori.pkl'>\n",
      "file               BufferedReader    <_io.BufferedReader name='siritori.pkl'>\n",
      "flag               bool              True\n",
      "fruit              str               peach\n",
      "fruit1             str               apple\n",
      "fruit2             str               banana\n",
      "fruit3             str               peach\n",
      "fruits             tuple             n=3\n",
      "i                  int               336\n",
      "info               function          <function info at 0x106781048>\n",
      "items              list              n=16\n",
      "itertools          module            <module 'itertools' (built-in)>\n",
      "j                  tuple             n=2\n",
      "lupin              str               x\n",
      "name               str               Suzuki\n",
      "name2age           dict              n=4\n",
      "numbers            list              n=10\n",
      "pack               tuple             n=3\n",
      "people             list              n=4\n",
      "person             str               Sato\n",
      "pi                 float             3.141592653\n",
      "pickle             module            <module 'pickle' from '/U<...>lib/python3.5/pickle.py'>\n",
      "pow                function          <function pow at 0x106781950>\n",
      "result             str               odd\n",
      "s                  str               Hello\n",
      "seasoning          set               {'suger', 'salt', 'pepper'}\n",
      "sentence           str               Peter Piper picked a peck of pickled peppers.\n",
      "set1               set               {'c', 'b', 'a'}\n",
      "set2               set               {'d', 'c', 'b'}\n",
      "siritori           dict              n=4\n",
      "siritori2          dict              n=4\n",
      "str_a              str               Apple star\n",
      "str_b              str               Apple star\n",
      "str_c              str               Apple star\n",
      "t                  str               world\n",
      "val                int               4\n",
      "values             list              n=3\n",
      "x                  int               2017\n",
      "year               int               2000\n",
      "yorosiku           int               4649\n",
      "zero_vec           list              n=10\n"
     ]
    }
   ],
   "source": [
    "%whos"
   ]
  },
  {
   "cell_type": "markdown",
   "metadata": {},
   "source": [
    "### other magic commnad"
   ]
  },
  {
   "cell_type": "code",
   "execution_count": 190,
   "metadata": {},
   "outputs": [],
   "source": [
    "%quickref"
   ]
  },
  {
   "cell_type": "code",
   "execution_count": 191,
   "metadata": {},
   "outputs": [
    {
     "name": "stdout",
     "output_type": "stream",
     "text": [
      "The Zen of Python, by Tim Peters\n",
      "\n",
      "Beautiful is better than ugly.\n",
      "Explicit is better than implicit.\n",
      "Simple is better than complex.\n",
      "Complex is better than complicated.\n",
      "Flat is better than nested.\n",
      "Sparse is better than dense.\n",
      "Readability counts.\n",
      "Special cases aren't special enough to break the rules.\n",
      "Although practicality beats purity.\n",
      "Errors should never pass silently.\n",
      "Unless explicitly silenced.\n",
      "In the face of ambiguity, refuse the temptation to guess.\n",
      "There should be one-- and preferably only one --obvious way to do it.\n",
      "Although that way may not be obvious at first unless you're Dutch.\n",
      "Now is better than never.\n",
      "Although never is often better than *right* now.\n",
      "If the implementation is hard to explain, it's a bad idea.\n",
      "If the implementation is easy to explain, it may be a good idea.\n",
      "Namespaces are one honking great idea -- let's do more of those!\n"
     ]
    }
   ],
   "source": [
    "import this"
   ]
  },
  {
   "cell_type": "code",
   "execution_count": null,
   "metadata": {},
   "outputs": [],
   "source": []
  }
 ],
 "metadata": {
  "kernelspec": {
   "display_name": "Python 3",
   "language": "python",
   "name": "python3"
  },
  "language_info": {
   "codemirror_mode": {
    "name": "ipython",
    "version": 3
   },
   "file_extension": ".py",
   "mimetype": "text/x-python",
   "name": "python",
   "nbconvert_exporter": "python",
   "pygments_lexer": "ipython3",
   "version": "3.5.2"
  }
 },
 "nbformat": 4,
 "nbformat_minor": 2
}
